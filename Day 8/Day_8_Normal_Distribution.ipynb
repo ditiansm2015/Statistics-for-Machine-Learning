{
  "nbformat": 4,
  "nbformat_minor": 0,
  "metadata": {
    "colab": {
      "provenance": []
    },
    "kernelspec": {
      "name": "python3",
      "display_name": "Python 3"
    },
    "language_info": {
      "name": "python"
    }
  },
  "cells": [
    {
      "cell_type": "markdown",
      "source": [
        "# **In Notebook**"
      ],
      "metadata": {
        "id": "krm4OjDKF6o2"
      }
    }
  ]
}