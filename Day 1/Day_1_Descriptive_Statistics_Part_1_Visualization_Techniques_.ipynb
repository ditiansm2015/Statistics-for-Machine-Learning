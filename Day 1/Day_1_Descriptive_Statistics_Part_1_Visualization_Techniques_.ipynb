{
  "nbformat": 4,
  "nbformat_minor": 0,
  "metadata": {
    "colab": {
      "provenance": []
    },
    "kernelspec": {
      "name": "python3",
      "display_name": "Python 3"
    },
    "language_info": {
      "name": "python"
    }
  },
  "cells": [
    {
      "cell_type": "code",
      "execution_count": null,
      "metadata": {
        "id": "4m5AdxKmu3Vv"
      },
      "outputs": [],
      "source": [
        "import pandas as pd\n",
        "import numpy as np\n",
        "import matplotlib.pyplot as plt\n",
        "import seaborn as sns"
      ]
    },
    {
      "cell_type": "code",
      "source": [
        "data = pd.read_csv('train.csv')"
      ],
      "metadata": {
        "id": "MPvB5TPbvTbK"
      },
      "execution_count": null,
      "outputs": []
    },
    {
      "cell_type": "code",
      "source": [
        "data.head()"
      ],
      "metadata": {
        "colab": {
          "base_uri": "https://localhost:8080/",
          "height": 206
        },
        "id": "eb7JCo3TvYJZ",
        "outputId": "b16896d2-8535-4e5b-e9cc-1b2a7bcc96e4"
      },
      "execution_count": null,
      "outputs": [
        {
          "output_type": "execute_result",
          "data": {
            "text/plain": [
              "   PassengerId  Survived  Pclass  \\\n",
              "0            1         0       3   \n",
              "1            2         1       1   \n",
              "2            3         1       3   \n",
              "3            4         1       1   \n",
              "4            5         0       3   \n",
              "\n",
              "                                                Name     Sex   Age  SibSp  \\\n",
              "0                            Braund, Mr. Owen Harris    male  22.0      1   \n",
              "1  Cumings, Mrs. John Bradley (Florence Briggs Th...  female  38.0      1   \n",
              "2                             Heikkinen, Miss. Laina  female  26.0      0   \n",
              "3       Futrelle, Mrs. Jacques Heath (Lily May Peel)  female  35.0      1   \n",
              "4                           Allen, Mr. William Henry    male  35.0      0   \n",
              "\n",
              "   Parch            Ticket     Fare Cabin Embarked  \n",
              "0      0         A/5 21171   7.2500   NaN        S  \n",
              "1      0          PC 17599  71.2833   C85        C  \n",
              "2      0  STON/O2. 3101282   7.9250   NaN        S  \n",
              "3      0            113803  53.1000  C123        S  \n",
              "4      0            373450   8.0500   NaN        S  "
            ],
            "text/html": [
              "\n",
              "  <div id=\"df-91daba11-e831-4f51-b259-b14d19382bc6\">\n",
              "    <div class=\"colab-df-container\">\n",
              "      <div>\n",
              "<style scoped>\n",
              "    .dataframe tbody tr th:only-of-type {\n",
              "        vertical-align: middle;\n",
              "    }\n",
              "\n",
              "    .dataframe tbody tr th {\n",
              "        vertical-align: top;\n",
              "    }\n",
              "\n",
              "    .dataframe thead th {\n",
              "        text-align: right;\n",
              "    }\n",
              "</style>\n",
              "<table border=\"1\" class=\"dataframe\">\n",
              "  <thead>\n",
              "    <tr style=\"text-align: right;\">\n",
              "      <th></th>\n",
              "      <th>PassengerId</th>\n",
              "      <th>Survived</th>\n",
              "      <th>Pclass</th>\n",
              "      <th>Name</th>\n",
              "      <th>Sex</th>\n",
              "      <th>Age</th>\n",
              "      <th>SibSp</th>\n",
              "      <th>Parch</th>\n",
              "      <th>Ticket</th>\n",
              "      <th>Fare</th>\n",
              "      <th>Cabin</th>\n",
              "      <th>Embarked</th>\n",
              "    </tr>\n",
              "  </thead>\n",
              "  <tbody>\n",
              "    <tr>\n",
              "      <th>0</th>\n",
              "      <td>1</td>\n",
              "      <td>0</td>\n",
              "      <td>3</td>\n",
              "      <td>Braund, Mr. Owen Harris</td>\n",
              "      <td>male</td>\n",
              "      <td>22.0</td>\n",
              "      <td>1</td>\n",
              "      <td>0</td>\n",
              "      <td>A/5 21171</td>\n",
              "      <td>7.2500</td>\n",
              "      <td>NaN</td>\n",
              "      <td>S</td>\n",
              "    </tr>\n",
              "    <tr>\n",
              "      <th>1</th>\n",
              "      <td>2</td>\n",
              "      <td>1</td>\n",
              "      <td>1</td>\n",
              "      <td>Cumings, Mrs. John Bradley (Florence Briggs Th...</td>\n",
              "      <td>female</td>\n",
              "      <td>38.0</td>\n",
              "      <td>1</td>\n",
              "      <td>0</td>\n",
              "      <td>PC 17599</td>\n",
              "      <td>71.2833</td>\n",
              "      <td>C85</td>\n",
              "      <td>C</td>\n",
              "    </tr>\n",
              "    <tr>\n",
              "      <th>2</th>\n",
              "      <td>3</td>\n",
              "      <td>1</td>\n",
              "      <td>3</td>\n",
              "      <td>Heikkinen, Miss. Laina</td>\n",
              "      <td>female</td>\n",
              "      <td>26.0</td>\n",
              "      <td>0</td>\n",
              "      <td>0</td>\n",
              "      <td>STON/O2. 3101282</td>\n",
              "      <td>7.9250</td>\n",
              "      <td>NaN</td>\n",
              "      <td>S</td>\n",
              "    </tr>\n",
              "    <tr>\n",
              "      <th>3</th>\n",
              "      <td>4</td>\n",
              "      <td>1</td>\n",
              "      <td>1</td>\n",
              "      <td>Futrelle, Mrs. Jacques Heath (Lily May Peel)</td>\n",
              "      <td>female</td>\n",
              "      <td>35.0</td>\n",
              "      <td>1</td>\n",
              "      <td>0</td>\n",
              "      <td>113803</td>\n",
              "      <td>53.1000</td>\n",
              "      <td>C123</td>\n",
              "      <td>S</td>\n",
              "    </tr>\n",
              "    <tr>\n",
              "      <th>4</th>\n",
              "      <td>5</td>\n",
              "      <td>0</td>\n",
              "      <td>3</td>\n",
              "      <td>Allen, Mr. William Henry</td>\n",
              "      <td>male</td>\n",
              "      <td>35.0</td>\n",
              "      <td>0</td>\n",
              "      <td>0</td>\n",
              "      <td>373450</td>\n",
              "      <td>8.0500</td>\n",
              "      <td>NaN</td>\n",
              "      <td>S</td>\n",
              "    </tr>\n",
              "  </tbody>\n",
              "</table>\n",
              "</div>\n",
              "      <button class=\"colab-df-convert\" onclick=\"convertToInteractive('df-91daba11-e831-4f51-b259-b14d19382bc6')\"\n",
              "              title=\"Convert this dataframe to an interactive table.\"\n",
              "              style=\"display:none;\">\n",
              "        \n",
              "  <svg xmlns=\"http://www.w3.org/2000/svg\" height=\"24px\"viewBox=\"0 0 24 24\"\n",
              "       width=\"24px\">\n",
              "    <path d=\"M0 0h24v24H0V0z\" fill=\"none\"/>\n",
              "    <path d=\"M18.56 5.44l.94 2.06.94-2.06 2.06-.94-2.06-.94-.94-2.06-.94 2.06-2.06.94zm-11 1L8.5 8.5l.94-2.06 2.06-.94-2.06-.94L8.5 2.5l-.94 2.06-2.06.94zm10 10l.94 2.06.94-2.06 2.06-.94-2.06-.94-.94-2.06-.94 2.06-2.06.94z\"/><path d=\"M17.41 7.96l-1.37-1.37c-.4-.4-.92-.59-1.43-.59-.52 0-1.04.2-1.43.59L10.3 9.45l-7.72 7.72c-.78.78-.78 2.05 0 2.83L4 21.41c.39.39.9.59 1.41.59.51 0 1.02-.2 1.41-.59l7.78-7.78 2.81-2.81c.8-.78.8-2.07 0-2.86zM5.41 20L4 18.59l7.72-7.72 1.47 1.35L5.41 20z\"/>\n",
              "  </svg>\n",
              "      </button>\n",
              "      \n",
              "  <style>\n",
              "    .colab-df-container {\n",
              "      display:flex;\n",
              "      flex-wrap:wrap;\n",
              "      gap: 12px;\n",
              "    }\n",
              "\n",
              "    .colab-df-convert {\n",
              "      background-color: #E8F0FE;\n",
              "      border: none;\n",
              "      border-radius: 50%;\n",
              "      cursor: pointer;\n",
              "      display: none;\n",
              "      fill: #1967D2;\n",
              "      height: 32px;\n",
              "      padding: 0 0 0 0;\n",
              "      width: 32px;\n",
              "    }\n",
              "\n",
              "    .colab-df-convert:hover {\n",
              "      background-color: #E2EBFA;\n",
              "      box-shadow: 0px 1px 2px rgba(60, 64, 67, 0.3), 0px 1px 3px 1px rgba(60, 64, 67, 0.15);\n",
              "      fill: #174EA6;\n",
              "    }\n",
              "\n",
              "    [theme=dark] .colab-df-convert {\n",
              "      background-color: #3B4455;\n",
              "      fill: #D2E3FC;\n",
              "    }\n",
              "\n",
              "    [theme=dark] .colab-df-convert:hover {\n",
              "      background-color: #434B5C;\n",
              "      box-shadow: 0px 1px 3px 1px rgba(0, 0, 0, 0.15);\n",
              "      filter: drop-shadow(0px 1px 2px rgba(0, 0, 0, 0.3));\n",
              "      fill: #FFFFFF;\n",
              "    }\n",
              "  </style>\n",
              "\n",
              "      <script>\n",
              "        const buttonEl =\n",
              "          document.querySelector('#df-91daba11-e831-4f51-b259-b14d19382bc6 button.colab-df-convert');\n",
              "        buttonEl.style.display =\n",
              "          google.colab.kernel.accessAllowed ? 'block' : 'none';\n",
              "\n",
              "        async function convertToInteractive(key) {\n",
              "          const element = document.querySelector('#df-91daba11-e831-4f51-b259-b14d19382bc6');\n",
              "          const dataTable =\n",
              "            await google.colab.kernel.invokeFunction('convertToInteractive',\n",
              "                                                     [key], {});\n",
              "          if (!dataTable) return;\n",
              "\n",
              "          const docLinkHtml = 'Like what you see? Visit the ' +\n",
              "            '<a target=\"_blank\" href=https://colab.research.google.com/notebooks/data_table.ipynb>data table notebook</a>'\n",
              "            + ' to learn more about interactive tables.';\n",
              "          element.innerHTML = '';\n",
              "          dataTable['output_type'] = 'display_data';\n",
              "          await google.colab.output.renderOutput(dataTable, element);\n",
              "          const docLink = document.createElement('div');\n",
              "          docLink.innerHTML = docLinkHtml;\n",
              "          element.appendChild(docLink);\n",
              "        }\n",
              "      </script>\n",
              "    </div>\n",
              "  </div>\n",
              "  "
            ]
          },
          "metadata": {},
          "execution_count": 4
        }
      ]
    },
    {
      "cell_type": "markdown",
      "source": [
        "# **Working with Single Data/Variable**"
      ],
      "metadata": {
        "id": "8X3NRLKxvfmY"
      }
    },
    {
      "cell_type": "markdown",
      "source": [
        "## **1. Working with Qualitative/Categorical data**"
      ],
      "metadata": {
        "id": "xO75wzubvltO"
      }
    },
    {
      "cell_type": "markdown",
      "source": [
        "### **a. Frequency Distribution Table**"
      ],
      "metadata": {
        "id": "WOS49-6Uvq73"
      }
    },
    {
      "cell_type": "markdown",
      "source": [
        "Frequency tells you how often something happened. The frequency of an observation tells you the number of times the observation occurs in the data. For example, in the following list of numbers, the frequency of the number 9 is 5 (because it occurs 5 times): 1, 2, 3, 4, 6, 9, 9, 8, 5, 1, 1, 9, 9, 0, 6, 9.\n",
        "\n",
        "\n",
        "Example 2:\n",
        "\n",
        "\n",
        "\n",
        "![image.png](data:image/png;base64,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)"
      ],
      "metadata": {
        "id": "kEhcIWWJv713"
      }
    },
    {
      "cell_type": "code",
      "source": [
        "data.columns"
      ],
      "metadata": {
        "colab": {
          "base_uri": "https://localhost:8080/"
        },
        "id": "vn6ABNluvV2r",
        "outputId": "7b0be63d-608d-47eb-c411-57ae6f24c769"
      },
      "execution_count": null,
      "outputs": [
        {
          "output_type": "execute_result",
          "data": {
            "text/plain": [
              "Index(['PassengerId', 'Survived', 'Pclass', 'Name', 'Sex', 'Age', 'SibSp',\n",
              "       'Parch', 'Ticket', 'Fare', 'Cabin', 'Embarked'],\n",
              "      dtype='object')"
            ]
          },
          "metadata": {},
          "execution_count": 5
        }
      ]
    },
    {
      "cell_type": "code",
      "source": [
        "# Displays each class and their frequency in the column Pclass \n",
        "\n",
        "data['Pclass'].value_counts()"
      ],
      "metadata": {
        "colab": {
          "base_uri": "https://localhost:8080/"
        },
        "id": "jlUTutB7wW1H",
        "outputId": "d59f1d45-8915-4589-a90d-f1d502cf2092"
      },
      "execution_count": null,
      "outputs": [
        {
          "output_type": "execute_result",
          "data": {
            "text/plain": [
              "3    491\n",
              "1    216\n",
              "2    184\n",
              "Name: Pclass, dtype: int64"
            ]
          },
          "metadata": {},
          "execution_count": 6
        }
      ]
    },
    {
      "cell_type": "markdown",
      "source": [
        "### **b. Bar Chart**"
      ],
      "metadata": {
        "id": "cOGnRaQcxMS9"
      }
    },
    {
      "cell_type": "code",
      "source": [
        "data['Pclass'].value_counts().plot(kind = 'bar')"
      ],
      "metadata": {
        "colab": {
          "base_uri": "https://localhost:8080/",
          "height": 280
        },
        "id": "D4KAAi6KwW3j",
        "outputId": "8393bcbb-f1bb-400c-eccc-4ea4be61de8e"
      },
      "execution_count": null,
      "outputs": [
        {
          "output_type": "execute_result",
          "data": {
            "text/plain": [
              "<matplotlib.axes._subplots.AxesSubplot at 0x7f2e8f3ef510>"
            ]
          },
          "metadata": {},
          "execution_count": 7
        },
        {
          "output_type": "display_data",
          "data": {
            "text/plain": [
              "<Figure size 432x288 with 1 Axes>"
            ],
            "image/png": "[encoded data removed]"
          },
          "metadata": {
            "needs_background": "light"
          }
        }
      ]
    },
    {
      "cell_type": "markdown",
      "source": [
        "### **c. Pie Chart**"
      ],
      "metadata": {
        "id": "SFgMRlE3xhmN"
      }
    },
    {
      "cell_type": "code",
      "source": [
        "data['Pclass'].value_counts().plot(kind = 'pie', autopct = '%0.2f')       # autopct (optional) helps give share of each class (of Pclass column) upto 2 decimal places "
      ],
      "metadata": {
        "colab": {
          "base_uri": "https://localhost:8080/",
          "height": 266
        },
        "id": "pTa2W7spwW8r",
        "outputId": "9efd276d-ce2f-4ee9-85ad-ed1d11a73454"
      },
      "execution_count": null,
      "outputs": [
        {
          "output_type": "execute_result",
          "data": {
            "text/plain": [
              "<matplotlib.axes._subplots.AxesSubplot at 0x7f2e7e8a1e10>"
            ]
          },
          "metadata": {},
          "execution_count": 52
        },
        {
          "output_type": "display_data",
          "data": {
            "text/plain": [
              "<Figure size 432x288 with 1 Axes>"
            ],
            "image/png": "[encoded data removed]"
          },
          "metadata": {}
        }
      ]
    },
    {
      "cell_type": "markdown",
      "source": [
        "### **d. Cumulative Frequency**"
      ],
      "metadata": {
        "id": "6HJr1uMCx-jh"
      }
    },
    {
      "cell_type": "markdown",
      "source": [
        "The frequency is the number of times an event occurs within a given scenario. Cumulative frequency is defined as the running total of frequencies. It is the sum of all the previous frequencies up to the current point. It is easily understandable through a Cumulative Frequency Table.\n",
        "\n",
        "![image.png](data:image/png;base64,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)"
      ],
      "metadata": {
        "id": "5vxJzwLHyE-7"
      }
    },
    {
      "cell_type": "code",
      "source": [
        "a = data['Pclass'].value_counts()\n",
        "a"
      ],
      "metadata": {
        "colab": {
          "base_uri": "https://localhost:8080/"
        },
        "id": "w4t5x-QfwW-2",
        "outputId": "b3048589-ca75-4a16-943d-f48e534876de"
      },
      "execution_count": null,
      "outputs": [
        {
          "output_type": "execute_result",
          "data": {
            "text/plain": [
              "3    491\n",
              "1    216\n",
              "2    184\n",
              "Name: Pclass, dtype: int64"
            ]
          },
          "metadata": {},
          "execution_count": 12
        }
      ]
    },
    {
      "cell_type": "code",
      "source": [
        "# Percent of each class in pclass column\n",
        "\n",
        "b = ((a/a.sum())*100).values\n",
        "b"
      ],
      "metadata": {
        "colab": {
          "base_uri": "https://localhost:8080/"
        },
        "id": "qisS96wNwXRT",
        "outputId": "0e93313b-df93-4882-e556-15fa30161b11"
      },
      "execution_count": null,
      "outputs": [
        {
          "output_type": "execute_result",
          "data": {
            "text/plain": [
              "array([55.10662177, 24.24242424, 20.65095398])"
            ]
          },
          "metadata": {},
          "execution_count": 18
        }
      ]
    },
    {
      "cell_type": "code",
      "source": [
        "c = []      # storing cumulative frequency\n",
        "cf = 0      \n",
        "\n",
        "for i in b:\n",
        "  cf = cf + i\n",
        "  c.append(cf)"
      ],
      "metadata": {
        "id": "_WVrKvq8wXTp"
      },
      "execution_count": null,
      "outputs": []
    },
    {
      "cell_type": "code",
      "source": [
        "c"
      ],
      "metadata": {
        "colab": {
          "base_uri": "https://localhost:8080/"
        },
        "id": "C_KALVt2zCoq",
        "outputId": "6a220507-8e7c-4308-c65e-56c1714e6ddc"
      },
      "execution_count": null,
      "outputs": [
        {
          "output_type": "execute_result",
          "data": {
            "text/plain": [
              "[55.106621773288445, 79.34904601571269, 100.0]"
            ]
          },
          "metadata": {},
          "execution_count": 21
        }
      ]
    },
    {
      "cell_type": "code",
      "source": [
        "plt.plot(c,  Marker = \"D\")"
      ],
      "metadata": {
        "colab": {
          "base_uri": "https://localhost:8080/",
          "height": 283
        },
        "id": "WQdUlGDkwXVr",
        "outputId": "8221d339-0e4e-4397-d895-79dbba088a03"
      },
      "execution_count": null,
      "outputs": [
        {
          "output_type": "execute_result",
          "data": {
            "text/plain": [
              "[<matplotlib.lines.Line2D at 0x7f2e8caf0cd0>]"
            ]
          },
          "metadata": {},
          "execution_count": 31
        },
        {
          "output_type": "display_data",
          "data": {
            "text/plain": [
              "<Figure size 432x288 with 1 Axes>"
            ],
            "image/png": "[encoded data removed]"
          },
          "metadata": {
            "needs_background": "light"
          }
        }
      ]
    },
    {
      "cell_type": "markdown",
      "source": [
        "## **2. Working with Quantitative/Numerical data**"
      ],
      "metadata": {
        "id": "fLh5iMzIzjLp"
      }
    },
    {
      "cell_type": "markdown",
      "source": [
        "### **a. Histogram**"
      ],
      "metadata": {
        "id": "ONfvtsgKzod5"
      }
    },
    {
      "cell_type": "code",
      "source": [
        "d = data['Age'].values"
      ],
      "metadata": {
        "id": "nCt2SYyszn81"
      },
      "execution_count": null,
      "outputs": []
    },
    {
      "cell_type": "code",
      "source": [
        "plt.hist(d)"
      ],
      "metadata": {
        "colab": {
          "base_uri": "https://localhost:8080/",
          "height": 336
        },
        "id": "mInG6eGK0QfD",
        "outputId": "71b85039-ba7d-43d8-bc0c-b7bf35d5324f"
      },
      "execution_count": null,
      "outputs": [
        {
          "output_type": "execute_result",
          "data": {
            "text/plain": [
              "(array([ 54.,  46., 177., 169., 118.,  70.,  45.,  24.,   9.,   2.]),\n",
              " array([ 0.42 ,  8.378, 16.336, 24.294, 32.252, 40.21 , 48.168, 56.126,\n",
              "        64.084, 72.042, 80.   ]),\n",
              " <a list of 10 Patch objects>)"
            ]
          },
          "metadata": {},
          "execution_count": 40
        },
        {
          "output_type": "display_data",
          "data": {
            "text/plain": [
              "<Figure size 432x288 with 1 Axes>"
            ],
            "image/png": "[encoded data removed]"
          },
          "metadata": {
            "needs_background": "light"
          }
        }
      ]
    },
    {
      "cell_type": "markdown",
      "source": [
        "### **b. Boxplots**"
      ],
      "metadata": {
        "id": "K2H5Kf1u0JL1"
      }
    },
    {
      "cell_type": "code",
      "source": [
        "sns.boxplot(data['Age'])         # first parameter is column name, second parameter is dataframe name"
      ],
      "metadata": {
        "colab": {
          "base_uri": "https://localhost:8080/",
          "height": 353
        },
        "id": "xQ2t6wuc0IDe",
        "outputId": "25350d69-a5e5-46bc-c825-a00ff722d072"
      },
      "execution_count": null,
      "outputs": [
        {
          "output_type": "stream",
          "name": "stderr",
          "text": [
            "/usr/local/lib/python3.7/dist-packages/seaborn/_decorators.py:43: FutureWarning: Pass the following variable as a keyword arg: x. From version 0.12, the only valid positional argument will be `data`, and passing other arguments without an explicit keyword will result in an error or misinterpretation.\n",
            "  FutureWarning\n"
          ]
        },
        {
          "output_type": "execute_result",
          "data": {
            "text/plain": [
              "<matplotlib.axes._subplots.AxesSubplot at 0x7f2e7ffd6590>"
            ]
          },
          "metadata": {},
          "execution_count": 48
        },
        {
          "output_type": "display_data",
          "data": {
            "text/plain": [
              "<Figure size 432x288 with 1 Axes>"
            ],
            "image/png": "[encoded data removed]"
          },
          "metadata": {
            "needs_background": "light"
          }
        }
      ]
    },
    {
      "cell_type": "markdown",
      "source": [
        "### **c. Kdeplot**"
      ],
      "metadata": {
        "id": "8DkdlUq51A66"
      }
    },
    {
      "cell_type": "code",
      "source": [
        "sns.kdeplot(data['Age'])"
      ],
      "metadata": {
        "colab": {
          "base_uri": "https://localhost:8080/",
          "height": 297
        },
        "id": "0L_0ndq70IGC",
        "outputId": "51360282-6e0d-4e32-99b6-f741e86868d9"
      },
      "execution_count": null,
      "outputs": [
        {
          "output_type": "execute_result",
          "data": {
            "text/plain": [
              "<matplotlib.axes._subplots.AxesSubplot at 0x7f2e7fef0fd0>"
            ]
          },
          "metadata": {},
          "execution_count": 49
        },
        {
          "output_type": "display_data",
          "data": {
            "text/plain": [
              "<Figure size 432x288 with 1 Axes>"
            ],
            "image/png": "[encoded data removed]"
          },
          "metadata": {
            "needs_background": "light"
          }
        }
      ]
    },
    {
      "cell_type": "markdown",
      "source": [
        "# **Working with 2 variables/data (Bivariate Analysis)**"
      ],
      "metadata": {
        "id": "M1I-clXL1b9m"
      }
    },
    {
      "cell_type": "markdown",
      "source": [
        "## **1. Categorical Vs Numerical**"
      ],
      "metadata": {
        "id": "rTA1HyMy1iPZ"
      }
    },
    {
      "cell_type": "markdown",
      "source": [
        "### **a. Box Plot**"
      ],
      "metadata": {
        "id": "pOqy6B941iTB"
      }
    },
    {
      "cell_type": "code",
      "source": [
        "sns.boxplot(x=data['Pclass'], y = data['Age'])"
      ],
      "metadata": {
        "colab": {
          "base_uri": "https://localhost:8080/",
          "height": 297
        },
        "id": "q9uwCLbp0IIY",
        "outputId": "6e1426fa-8a19-48ef-d02e-58f2f8b0caf9"
      },
      "execution_count": null,
      "outputs": [
        {
          "output_type": "execute_result",
          "data": {
            "text/plain": [
              "<matplotlib.axes._subplots.AxesSubplot at 0x7f2e7feaea50>"
            ]
          },
          "metadata": {},
          "execution_count": 50
        },
        {
          "output_type": "display_data",
          "data": {
            "text/plain": [
              "<Figure size 432x288 with 1 Axes>"
            ],
            "image/png": "[encoded data removed]"
          },
          "metadata": {
            "needs_background": "light"
          }
        }
      ]
    },
    {
      "cell_type": "code",
      "source": [
        "sns.barplot(data['Pclass'], data['Age'])"
      ],
      "metadata": {
        "colab": {
          "base_uri": "https://localhost:8080/",
          "height": 353
        },
        "id": "tsPq9Uc70IKt",
        "outputId": "dcb5978c-4351-4179-e279-51232fe0d1c1"
      },
      "execution_count": null,
      "outputs": [
        {
          "output_type": "stream",
          "name": "stderr",
          "text": [
            "/usr/local/lib/python3.7/dist-packages/seaborn/_decorators.py:43: FutureWarning: Pass the following variables as keyword args: x, y. From version 0.12, the only valid positional argument will be `data`, and passing other arguments without an explicit keyword will result in an error or misinterpretation.\n",
            "  FutureWarning\n"
          ]
        },
        {
          "output_type": "execute_result",
          "data": {
            "text/plain": [
              "<matplotlib.axes._subplots.AxesSubplot at 0x7f2e7e684bd0>"
            ]
          },
          "metadata": {},
          "execution_count": 54
        },
        {
          "output_type": "display_data",
          "data": {
            "text/plain": [
              "<Figure size 432x288 with 1 Axes>"
            ],
            "image/png": "[encoded data removed]"
          },
          "metadata": {
            "needs_background": "light"
          }
        }
      ]
    },
    {
      "cell_type": "markdown",
      "source": [
        "## **2. Numerical Vs Numerical**"
      ],
      "metadata": {
        "id": "v7Y3AUVT2ePn"
      }
    },
    {
      "cell_type": "code",
      "source": [
        "m = data['Age'].values\n",
        "n = data['Fare'].values\n",
        "\n",
        "plt.scatter(m,n)"
      ],
      "metadata": {
        "colab": {
          "base_uri": "https://localhost:8080/",
          "height": 283
        },
        "id": "iwX1qaQd0IND",
        "outputId": "377656fe-9d75-4400-db28-e9d8b2a8583c"
      },
      "execution_count": null,
      "outputs": [
        {
          "output_type": "execute_result",
          "data": {
            "text/plain": [
              "<matplotlib.collections.PathCollection at 0x7f2e7e5a2f10>"
            ]
          },
          "metadata": {},
          "execution_count": 55
        },
        {
          "output_type": "display_data",
          "data": {
            "text/plain": [
              "<Figure size 432x288 with 1 Axes>"
            ],
            "image/png": "[encoded data removed]"
          },
          "metadata": {
            "needs_background": "light"
          }
        }
      ]
    },
    {
      "cell_type": "markdown",
      "source": [
        "## **3. Categorical Vs Categorical**"
      ],
      "metadata": {
        "id": "dLzF0lf423f-"
      }
    },
    {
      "cell_type": "markdown",
      "source": [
        "### **a. Cross Tables/Contingency Table**"
      ],
      "metadata": {
        "id": "vC99vD-I27OP"
      }
    },
    {
      "cell_type": "markdown",
      "source": [
        "In statistics, a contingency table (also known as a cross tabulation or crosstab) is a type of table in a matrix format that displays the (multivariate) frequency distribution of the variables.\n",
        "\n",
        "![image.png](data:image/png;base64,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)"
      ],
      "metadata": {
        "id": "8YsfqMWy29j_"
      }
    },
    {
      "cell_type": "code",
      "source": [
        "ct = pd.crosstab(data['Pclass'], data['Sex'])\n",
        "ct"
      ],
      "metadata": {
        "colab": {
          "base_uri": "https://localhost:8080/",
          "height": 175
        },
        "id": "vAqTnNZa0IPZ",
        "outputId": "0780ba8b-84d8-408e-bb4f-09ba2b5ad632"
      },
      "execution_count": null,
      "outputs": [
        {
          "output_type": "execute_result",
          "data": {
            "text/plain": [
              "Sex     female  male\n",
              "Pclass              \n",
              "1           94   122\n",
              "2           76   108\n",
              "3          144   347"
            ],
            "text/html": [
              "\n",
              "  <div id=\"df-9c4b820a-6afc-4682-b34f-14a8cbadd06a\">\n",
              "    <div class=\"colab-df-container\">\n",
              "      <div>\n",
              "<style scoped>\n",
              "    .dataframe tbody tr th:only-of-type {\n",
              "        vertical-align: middle;\n",
              "    }\n",
              "\n",
              "    .dataframe tbody tr th {\n",
              "        vertical-align: top;\n",
              "    }\n",
              "\n",
              "    .dataframe thead th {\n",
              "        text-align: right;\n",
              "    }\n",
              "</style>\n",
              "<table border=\"1\" class=\"dataframe\">\n",
              "  <thead>\n",
              "    <tr style=\"text-align: right;\">\n",
              "      <th>Sex</th>\n",
              "      <th>female</th>\n",
              "      <th>male</th>\n",
              "    </tr>\n",
              "    <tr>\n",
              "      <th>Pclass</th>\n",
              "      <th></th>\n",
              "      <th></th>\n",
              "    </tr>\n",
              "  </thead>\n",
              "  <tbody>\n",
              "    <tr>\n",
              "      <th>1</th>\n",
              "      <td>94</td>\n",
              "      <td>122</td>\n",
              "    </tr>\n",
              "    <tr>\n",
              "      <th>2</th>\n",
              "      <td>76</td>\n",
              "      <td>108</td>\n",
              "    </tr>\n",
              "    <tr>\n",
              "      <th>3</th>\n",
              "      <td>144</td>\n",
              "      <td>347</td>\n",
              "    </tr>\n",
              "  </tbody>\n",
              "</table>\n",
              "</div>\n",
              "      <button class=\"colab-df-convert\" onclick=\"convertToInteractive('df-9c4b820a-6afc-4682-b34f-14a8cbadd06a')\"\n",
              "              title=\"Convert this dataframe to an interactive table.\"\n",
              "              style=\"display:none;\">\n",
              "        \n",
              "  <svg xmlns=\"http://www.w3.org/2000/svg\" height=\"24px\"viewBox=\"0 0 24 24\"\n",
              "       width=\"24px\">\n",
              "    <path d=\"M0 0h24v24H0V0z\" fill=\"none\"/>\n",
              "    <path d=\"M18.56 5.44l.94 2.06.94-2.06 2.06-.94-2.06-.94-.94-2.06-.94 2.06-2.06.94zm-11 1L8.5 8.5l.94-2.06 2.06-.94-2.06-.94L8.5 2.5l-.94 2.06-2.06.94zm10 10l.94 2.06.94-2.06 2.06-.94-2.06-.94-.94-2.06-.94 2.06-2.06.94z\"/><path d=\"M17.41 7.96l-1.37-1.37c-.4-.4-.92-.59-1.43-.59-.52 0-1.04.2-1.43.59L10.3 9.45l-7.72 7.72c-.78.78-.78 2.05 0 2.83L4 21.41c.39.39.9.59 1.41.59.51 0 1.02-.2 1.41-.59l7.78-7.78 2.81-2.81c.8-.78.8-2.07 0-2.86zM5.41 20L4 18.59l7.72-7.72 1.47 1.35L5.41 20z\"/>\n",
              "  </svg>\n",
              "      </button>\n",
              "      \n",
              "  <style>\n",
              "    .colab-df-container {\n",
              "      display:flex;\n",
              "      flex-wrap:wrap;\n",
              "      gap: 12px;\n",
              "    }\n",
              "\n",
              "    .colab-df-convert {\n",
              "      background-color: #E8F0FE;\n",
              "      border: none;\n",
              "      border-radius: 50%;\n",
              "      cursor: pointer;\n",
              "      display: none;\n",
              "      fill: #1967D2;\n",
              "      height: 32px;\n",
              "      padding: 0 0 0 0;\n",
              "      width: 32px;\n",
              "    }\n",
              "\n",
              "    .colab-df-convert:hover {\n",
              "      background-color: #E2EBFA;\n",
              "      box-shadow: 0px 1px 2px rgba(60, 64, 67, 0.3), 0px 1px 3px 1px rgba(60, 64, 67, 0.15);\n",
              "      fill: #174EA6;\n",
              "    }\n",
              "\n",
              "    [theme=dark] .colab-df-convert {\n",
              "      background-color: #3B4455;\n",
              "      fill: #D2E3FC;\n",
              "    }\n",
              "\n",
              "    [theme=dark] .colab-df-convert:hover {\n",
              "      background-color: #434B5C;\n",
              "      box-shadow: 0px 1px 3px 1px rgba(0, 0, 0, 0.15);\n",
              "      filter: drop-shadow(0px 1px 2px rgba(0, 0, 0, 0.3));\n",
              "      fill: #FFFFFF;\n",
              "    }\n",
              "  </style>\n",
              "\n",
              "      <script>\n",
              "        const buttonEl =\n",
              "          document.querySelector('#df-9c4b820a-6afc-4682-b34f-14a8cbadd06a button.colab-df-convert');\n",
              "        buttonEl.style.display =\n",
              "          google.colab.kernel.accessAllowed ? 'block' : 'none';\n",
              "\n",
              "        async function convertToInteractive(key) {\n",
              "          const element = document.querySelector('#df-9c4b820a-6afc-4682-b34f-14a8cbadd06a');\n",
              "          const dataTable =\n",
              "            await google.colab.kernel.invokeFunction('convertToInteractive',\n",
              "                                                     [key], {});\n",
              "          if (!dataTable) return;\n",
              "\n",
              "          const docLinkHtml = 'Like what you see? Visit the ' +\n",
              "            '<a target=\"_blank\" href=https://colab.research.google.com/notebooks/data_table.ipynb>data table notebook</a>'\n",
              "            + ' to learn more about interactive tables.';\n",
              "          element.innerHTML = '';\n",
              "          dataTable['output_type'] = 'display_data';\n",
              "          await google.colab.output.renderOutput(dataTable, element);\n",
              "          const docLink = document.createElement('div');\n",
              "          docLink.innerHTML = docLinkHtml;\n",
              "          element.appendChild(docLink);\n",
              "        }\n",
              "      </script>\n",
              "    </div>\n",
              "  </div>\n",
              "  "
            ]
          },
          "metadata": {},
          "execution_count": 57
        }
      ]
    },
    {
      "cell_type": "markdown",
      "source": [
        "### **b. Side by side bar chart**"
      ],
      "metadata": {
        "id": "WXsgW2RN3hd2"
      }
    },
    {
      "cell_type": "code",
      "source": [
        "ct.plot(kind = 'bar')"
      ],
      "metadata": {
        "colab": {
          "base_uri": "https://localhost:8080/",
          "height": 294
        },
        "id": "2nLsyYPM0ISB",
        "outputId": "5fdfc153-6435-45b1-b453-d3b58b460c54"
      },
      "execution_count": null,
      "outputs": [
        {
          "output_type": "execute_result",
          "data": {
            "text/plain": [
              "<matplotlib.axes._subplots.AxesSubplot at 0x7f2e7e82a5d0>"
            ]
          },
          "metadata": {},
          "execution_count": 58
        },
        {
          "output_type": "display_data",
          "data": {
            "text/plain": [
              "<Figure size 432x288 with 1 Axes>"
            ],
            "image/png": "[encoded data removed]"
          },
          "metadata": {
            "needs_background": "light"
          }
        }
      ]
    },
    {
      "cell_type": "markdown",
      "source": [
        "### **c. Heatmaps**"
      ],
      "metadata": {
        "id": "nN8HzZ1S3kUo"
      }
    },
    {
      "cell_type": "code",
      "source": [
        "sns.heatmap(ct)"
      ],
      "metadata": {
        "colab": {
          "base_uri": "https://localhost:8080/",
          "height": 297
        },
        "id": "8TZGy_ud0Iqx",
        "outputId": "9da4c2b7-e175-465d-d6cb-62de48fefc39"
      },
      "execution_count": null,
      "outputs": [
        {
          "output_type": "execute_result",
          "data": {
            "text/plain": [
              "<matplotlib.axes._subplots.AxesSubplot at 0x7f2e7e65a590>"
            ]
          },
          "metadata": {},
          "execution_count": 64
        },
        {
          "output_type": "display_data",
          "data": {
            "text/plain": [
              "<Figure size 432x288 with 2 Axes>"
            ],
            "image/png": "[encoded data removed]"
          },
          "metadata": {
            "needs_background": "light"
          }
        }
      ]
    }
  ]
}