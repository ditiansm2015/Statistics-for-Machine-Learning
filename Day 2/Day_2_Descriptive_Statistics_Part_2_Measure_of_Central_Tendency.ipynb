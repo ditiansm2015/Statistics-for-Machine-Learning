{
  "nbformat": 4,
  "nbformat_minor": 0,
  "metadata": {
    "colab": {
      "provenance": []
    },
    "kernelspec": {
      "name": "python3",
      "display_name": "Python 3"
    },
    "language_info": {
      "name": "python"
    }
  },
  "cells": [
    {
      "cell_type": "markdown",
      "source": [
        "### **About this Dataset**\n",
        "\n",
        "Classify iris plants into three species in this classic dataset\n",
        "\n",
        "\n",
        "It includes three iris species with 50 samples each as well as some properties about each flower. One flower species is linearly separable from the other two, but the other two are not linearly separable from each other.\n",
        "\n",
        "The columns in this dataset are:\n",
        "\n",
        "Id\n",
        "SepalLengthCm\n",
        "SepalWidthCm\n",
        "PetalLengthCm\n",
        "PetalWidthCm\n",
        "Species"
      ],
      "metadata": {
        "id": "p9S9vMB27s9Q"
      }
    },
    {
      "cell_type": "code",
      "source": [
        "import pandas as pd\n",
        "import numpy as np"
      ],
      "metadata": {
        "id": "DEr2wAva7kSn"
      },
      "execution_count": 7,
      "outputs": []
    },
    {
      "cell_type": "code",
      "source": [
        "data = pd.read_csv('iris.csv')\n",
        "data.sample(5)"
      ],
      "metadata": {
        "colab": {
          "base_uri": "https://localhost:8080/",
          "height": 206
        },
        "id": "mJNnfRUn71EE",
        "outputId": "5f5ce4df-a507-4206-de78-107c6c145d41"
      },
      "execution_count": 11,
      "outputs": [
        {
          "output_type": "execute_result",
          "data": {
            "text/plain": [
              "      Id  SepalLengthCm  SepalWidthCm  PetalLengthCm  PetalWidthCm  \\\n",
              "70    71            5.9           3.2            4.8           1.8   \n",
              "11    12            4.8           3.4            1.6           0.2   \n",
              "113  114            5.7           2.5            5.0           2.0   \n",
              "57    58            4.9           2.4            3.3           1.0   \n",
              "131  132            7.9           3.8            6.4           2.0   \n",
              "\n",
              "             Species  \n",
              "70   Iris-versicolor  \n",
              "11       Iris-setosa  \n",
              "113   Iris-virginica  \n",
              "57   Iris-versicolor  \n",
              "131   Iris-virginica  "
            ],
            "text/html": [
              "\n",
              "  <div id=\"df-53beaf41-083b-4294-b94e-3138760e9df7\">\n",
              "    <div class=\"colab-df-container\">\n",
              "      <div>\n",
              "<style scoped>\n",
              "    .dataframe tbody tr th:only-of-type {\n",
              "        vertical-align: middle;\n",
              "    }\n",
              "\n",
              "    .dataframe tbody tr th {\n",
              "        vertical-align: top;\n",
              "    }\n",
              "\n",
              "    .dataframe thead th {\n",
              "        text-align: right;\n",
              "    }\n",
              "</style>\n",
              "<table border=\"1\" class=\"dataframe\">\n",
              "  <thead>\n",
              "    <tr style=\"text-align: right;\">\n",
              "      <th></th>\n",
              "      <th>Id</th>\n",
              "      <th>SepalLengthCm</th>\n",
              "      <th>SepalWidthCm</th>\n",
              "      <th>PetalLengthCm</th>\n",
              "      <th>PetalWidthCm</th>\n",
              "      <th>Species</th>\n",
              "    </tr>\n",
              "  </thead>\n",
              "  <tbody>\n",
              "    <tr>\n",
              "      <th>70</th>\n",
              "      <td>71</td>\n",
              "      <td>5.9</td>\n",
              "      <td>3.2</td>\n",
              "      <td>4.8</td>\n",
              "      <td>1.8</td>\n",
              "      <td>Iris-versicolor</td>\n",
              "    </tr>\n",
              "    <tr>\n",
              "      <th>11</th>\n",
              "      <td>12</td>\n",
              "      <td>4.8</td>\n",
              "      <td>3.4</td>\n",
              "      <td>1.6</td>\n",
              "      <td>0.2</td>\n",
              "      <td>Iris-setosa</td>\n",
              "    </tr>\n",
              "    <tr>\n",
              "      <th>113</th>\n",
              "      <td>114</td>\n",
              "      <td>5.7</td>\n",
              "      <td>2.5</td>\n",
              "      <td>5.0</td>\n",
              "      <td>2.0</td>\n",
              "      <td>Iris-virginica</td>\n",
              "    </tr>\n",
              "    <tr>\n",
              "      <th>57</th>\n",
              "      <td>58</td>\n",
              "      <td>4.9</td>\n",
              "      <td>2.4</td>\n",
              "      <td>3.3</td>\n",
              "      <td>1.0</td>\n",
              "      <td>Iris-versicolor</td>\n",
              "    </tr>\n",
              "    <tr>\n",
              "      <th>131</th>\n",
              "      <td>132</td>\n",
              "      <td>7.9</td>\n",
              "      <td>3.8</td>\n",
              "      <td>6.4</td>\n",
              "      <td>2.0</td>\n",
              "      <td>Iris-virginica</td>\n",
              "    </tr>\n",
              "  </tbody>\n",
              "</table>\n",
              "</div>\n",
              "      <button class=\"colab-df-convert\" onclick=\"convertToInteractive('df-53beaf41-083b-4294-b94e-3138760e9df7')\"\n",
              "              title=\"Convert this dataframe to an interactive table.\"\n",
              "              style=\"display:none;\">\n",
              "        \n",
              "  <svg xmlns=\"http://www.w3.org/2000/svg\" height=\"24px\"viewBox=\"0 0 24 24\"\n",
              "       width=\"24px\">\n",
              "    <path d=\"M0 0h24v24H0V0z\" fill=\"none\"/>\n",
              "    <path d=\"M18.56 5.44l.94 2.06.94-2.06 2.06-.94-2.06-.94-.94-2.06-.94 2.06-2.06.94zm-11 1L8.5 8.5l.94-2.06 2.06-.94-2.06-.94L8.5 2.5l-.94 2.06-2.06.94zm10 10l.94 2.06.94-2.06 2.06-.94-2.06-.94-.94-2.06-.94 2.06-2.06.94z\"/><path d=\"M17.41 7.96l-1.37-1.37c-.4-.4-.92-.59-1.43-.59-.52 0-1.04.2-1.43.59L10.3 9.45l-7.72 7.72c-.78.78-.78 2.05 0 2.83L4 21.41c.39.39.9.59 1.41.59.51 0 1.02-.2 1.41-.59l7.78-7.78 2.81-2.81c.8-.78.8-2.07 0-2.86zM5.41 20L4 18.59l7.72-7.72 1.47 1.35L5.41 20z\"/>\n",
              "  </svg>\n",
              "      </button>\n",
              "      \n",
              "  <style>\n",
              "    .colab-df-container {\n",
              "      display:flex;\n",
              "      flex-wrap:wrap;\n",
              "      gap: 12px;\n",
              "    }\n",
              "\n",
              "    .colab-df-convert {\n",
              "      background-color: #E8F0FE;\n",
              "      border: none;\n",
              "      border-radius: 50%;\n",
              "      cursor: pointer;\n",
              "      display: none;\n",
              "      fill: #1967D2;\n",
              "      height: 32px;\n",
              "      padding: 0 0 0 0;\n",
              "      width: 32px;\n",
              "    }\n",
              "\n",
              "    .colab-df-convert:hover {\n",
              "      background-color: #E2EBFA;\n",
              "      box-shadow: 0px 1px 2px rgba(60, 64, 67, 0.3), 0px 1px 3px 1px rgba(60, 64, 67, 0.15);\n",
              "      fill: #174EA6;\n",
              "    }\n",
              "\n",
              "    [theme=dark] .colab-df-convert {\n",
              "      background-color: #3B4455;\n",
              "      fill: #D2E3FC;\n",
              "    }\n",
              "\n",
              "    [theme=dark] .colab-df-convert:hover {\n",
              "      background-color: #434B5C;\n",
              "      box-shadow: 0px 1px 3px 1px rgba(0, 0, 0, 0.15);\n",
              "      filter: drop-shadow(0px 1px 2px rgba(0, 0, 0, 0.3));\n",
              "      fill: #FFFFFF;\n",
              "    }\n",
              "  </style>\n",
              "\n",
              "      <script>\n",
              "        const buttonEl =\n",
              "          document.querySelector('#df-53beaf41-083b-4294-b94e-3138760e9df7 button.colab-df-convert');\n",
              "        buttonEl.style.display =\n",
              "          google.colab.kernel.accessAllowed ? 'block' : 'none';\n",
              "\n",
              "        async function convertToInteractive(key) {\n",
              "          const element = document.querySelector('#df-53beaf41-083b-4294-b94e-3138760e9df7');\n",
              "          const dataTable =\n",
              "            await google.colab.kernel.invokeFunction('convertToInteractive',\n",
              "                                                     [key], {});\n",
              "          if (!dataTable) return;\n",
              "\n",
              "          const docLinkHtml = 'Like what you see? Visit the ' +\n",
              "            '<a target=\"_blank\" href=https://colab.research.google.com/notebooks/data_table.ipynb>data table notebook</a>'\n",
              "            + ' to learn more about interactive tables.';\n",
              "          element.innerHTML = '';\n",
              "          dataTable['output_type'] = 'display_data';\n",
              "          await google.colab.output.renderOutput(dataTable, element);\n",
              "          const docLink = document.createElement('div');\n",
              "          docLink.innerHTML = docLinkHtml;\n",
              "          element.appendChild(docLink);\n",
              "        }\n",
              "      </script>\n",
              "    </div>\n",
              "  </div>\n",
              "  "
            ]
          },
          "metadata": {},
          "execution_count": 11
        }
      ]
    },
    {
      "cell_type": "code",
      "source": [
        "data.rename(columns = {'SepalLengthCm':'SL', 'SepalWidthCm':'SW', 'PetalLengthCm':'PL', 'PetalWidthCm':'PW'}, inplace=True)"
      ],
      "metadata": {
        "id": "f0tewkOR8A0n"
      },
      "execution_count": 17,
      "outputs": []
    },
    {
      "cell_type": "code",
      "source": [
        "data.head()"
      ],
      "metadata": {
        "colab": {
          "base_uri": "https://localhost:8080/",
          "height": 206
        },
        "id": "7xfPiZBh8ZsP",
        "outputId": "d8d50ff1-762f-4456-e2f3-ba436ad75189"
      },
      "execution_count": 21,
      "outputs": [
        {
          "output_type": "execute_result",
          "data": {
            "text/plain": [
              "   Id   SL   SW   PL   PW      Species\n",
              "0   1  5.1  3.5  1.4  0.2  Iris-setosa\n",
              "1   2  4.9  3.0  1.4  0.2  Iris-setosa\n",
              "2   3  4.7  3.2  1.3  0.2  Iris-setosa\n",
              "3   4  4.6  3.1  1.5  0.2  Iris-setosa\n",
              "4   5  5.0  3.6  1.4  0.2  Iris-setosa"
            ],
            "text/html": [
              "\n",
              "  <div id=\"df-aefb77d3-0394-40d7-a3e2-a768e3589ed5\">\n",
              "    <div class=\"colab-df-container\">\n",
              "      <div>\n",
              "<style scoped>\n",
              "    .dataframe tbody tr th:only-of-type {\n",
              "        vertical-align: middle;\n",
              "    }\n",
              "\n",
              "    .dataframe tbody tr th {\n",
              "        vertical-align: top;\n",
              "    }\n",
              "\n",
              "    .dataframe thead th {\n",
              "        text-align: right;\n",
              "    }\n",
              "</style>\n",
              "<table border=\"1\" class=\"dataframe\">\n",
              "  <thead>\n",
              "    <tr style=\"text-align: right;\">\n",
              "      <th></th>\n",
              "      <th>Id</th>\n",
              "      <th>SL</th>\n",
              "      <th>SW</th>\n",
              "      <th>PL</th>\n",
              "      <th>PW</th>\n",
              "      <th>Species</th>\n",
              "    </tr>\n",
              "  </thead>\n",
              "  <tbody>\n",
              "    <tr>\n",
              "      <th>0</th>\n",
              "      <td>1</td>\n",
              "      <td>5.1</td>\n",
              "      <td>3.5</td>\n",
              "      <td>1.4</td>\n",
              "      <td>0.2</td>\n",
              "      <td>Iris-setosa</td>\n",
              "    </tr>\n",
              "    <tr>\n",
              "      <th>1</th>\n",
              "      <td>2</td>\n",
              "      <td>4.9</td>\n",
              "      <td>3.0</td>\n",
              "      <td>1.4</td>\n",
              "      <td>0.2</td>\n",
              "      <td>Iris-setosa</td>\n",
              "    </tr>\n",
              "    <tr>\n",
              "      <th>2</th>\n",
              "      <td>3</td>\n",
              "      <td>4.7</td>\n",
              "      <td>3.2</td>\n",
              "      <td>1.3</td>\n",
              "      <td>0.2</td>\n",
              "      <td>Iris-setosa</td>\n",
              "    </tr>\n",
              "    <tr>\n",
              "      <th>3</th>\n",
              "      <td>4</td>\n",
              "      <td>4.6</td>\n",
              "      <td>3.1</td>\n",
              "      <td>1.5</td>\n",
              "      <td>0.2</td>\n",
              "      <td>Iris-setosa</td>\n",
              "    </tr>\n",
              "    <tr>\n",
              "      <th>4</th>\n",
              "      <td>5</td>\n",
              "      <td>5.0</td>\n",
              "      <td>3.6</td>\n",
              "      <td>1.4</td>\n",
              "      <td>0.2</td>\n",
              "      <td>Iris-setosa</td>\n",
              "    </tr>\n",
              "  </tbody>\n",
              "</table>\n",
              "</div>\n",
              "      <button class=\"colab-df-convert\" onclick=\"convertToInteractive('df-aefb77d3-0394-40d7-a3e2-a768e3589ed5')\"\n",
              "              title=\"Convert this dataframe to an interactive table.\"\n",
              "              style=\"display:none;\">\n",
              "        \n",
              "  <svg xmlns=\"http://www.w3.org/2000/svg\" height=\"24px\"viewBox=\"0 0 24 24\"\n",
              "       width=\"24px\">\n",
              "    <path d=\"M0 0h24v24H0V0z\" fill=\"none\"/>\n",
              "    <path d=\"M18.56 5.44l.94 2.06.94-2.06 2.06-.94-2.06-.94-.94-2.06-.94 2.06-2.06.94zm-11 1L8.5 8.5l.94-2.06 2.06-.94-2.06-.94L8.5 2.5l-.94 2.06-2.06.94zm10 10l.94 2.06.94-2.06 2.06-.94-2.06-.94-.94-2.06-.94 2.06-2.06.94z\"/><path d=\"M17.41 7.96l-1.37-1.37c-.4-.4-.92-.59-1.43-.59-.52 0-1.04.2-1.43.59L10.3 9.45l-7.72 7.72c-.78.78-.78 2.05 0 2.83L4 21.41c.39.39.9.59 1.41.59.51 0 1.02-.2 1.41-.59l7.78-7.78 2.81-2.81c.8-.78.8-2.07 0-2.86zM5.41 20L4 18.59l7.72-7.72 1.47 1.35L5.41 20z\"/>\n",
              "  </svg>\n",
              "      </button>\n",
              "      \n",
              "  <style>\n",
              "    .colab-df-container {\n",
              "      display:flex;\n",
              "      flex-wrap:wrap;\n",
              "      gap: 12px;\n",
              "    }\n",
              "\n",
              "    .colab-df-convert {\n",
              "      background-color: #E8F0FE;\n",
              "      border: none;\n",
              "      border-radius: 50%;\n",
              "      cursor: pointer;\n",
              "      display: none;\n",
              "      fill: #1967D2;\n",
              "      height: 32px;\n",
              "      padding: 0 0 0 0;\n",
              "      width: 32px;\n",
              "    }\n",
              "\n",
              "    .colab-df-convert:hover {\n",
              "      background-color: #E2EBFA;\n",
              "      box-shadow: 0px 1px 2px rgba(60, 64, 67, 0.3), 0px 1px 3px 1px rgba(60, 64, 67, 0.15);\n",
              "      fill: #174EA6;\n",
              "    }\n",
              "\n",
              "    [theme=dark] .colab-df-convert {\n",
              "      background-color: #3B4455;\n",
              "      fill: #D2E3FC;\n",
              "    }\n",
              "\n",
              "    [theme=dark] .colab-df-convert:hover {\n",
              "      background-color: #434B5C;\n",
              "      box-shadow: 0px 1px 3px 1px rgba(0, 0, 0, 0.15);\n",
              "      filter: drop-shadow(0px 1px 2px rgba(0, 0, 0, 0.3));\n",
              "      fill: #FFFFFF;\n",
              "    }\n",
              "  </style>\n",
              "\n",
              "      <script>\n",
              "        const buttonEl =\n",
              "          document.querySelector('#df-aefb77d3-0394-40d7-a3e2-a768e3589ed5 button.colab-df-convert');\n",
              "        buttonEl.style.display =\n",
              "          google.colab.kernel.accessAllowed ? 'block' : 'none';\n",
              "\n",
              "        async function convertToInteractive(key) {\n",
              "          const element = document.querySelector('#df-aefb77d3-0394-40d7-a3e2-a768e3589ed5');\n",
              "          const dataTable =\n",
              "            await google.colab.kernel.invokeFunction('convertToInteractive',\n",
              "                                                     [key], {});\n",
              "          if (!dataTable) return;\n",
              "\n",
              "          const docLinkHtml = 'Like what you see? Visit the ' +\n",
              "            '<a target=\"_blank\" href=https://colab.research.google.com/notebooks/data_table.ipynb>data table notebook</a>'\n",
              "            + ' to learn more about interactive tables.';\n",
              "          element.innerHTML = '';\n",
              "          dataTable['output_type'] = 'display_data';\n",
              "          await google.colab.output.renderOutput(dataTable, element);\n",
              "          const docLink = document.createElement('div');\n",
              "          docLink.innerHTML = docLinkHtml;\n",
              "          element.appendChild(docLink);\n",
              "        }\n",
              "      </script>\n",
              "    </div>\n",
              "  </div>\n",
              "  "
            ]
          },
          "metadata": {},
          "execution_count": 21
        }
      ]
    },
    {
      "cell_type": "code",
      "source": [
        "data['Species'].value_counts()"
      ],
      "metadata": {
        "colab": {
          "base_uri": "https://localhost:8080/"
        },
        "id": "ujNa7xdu8bd8",
        "outputId": "b024bea2-db8f-4604-ffa1-5595adc348dd"
      },
      "execution_count": 19,
      "outputs": [
        {
          "output_type": "execute_result",
          "data": {
            "text/plain": [
              "Iris-setosa        50\n",
              "Iris-versicolor    50\n",
              "Iris-virginica     50\n",
              "Name: Species, dtype: int64"
            ]
          },
          "metadata": {},
          "execution_count": 19
        }
      ]
    },
    {
      "cell_type": "code",
      "source": [
        "iris_setosa = data[data['Species'] == 'Iris-setosa']\n",
        "iris_versicolor = data[data['Species'] == 'Iris-versicolor']\n",
        "iris_virginica = data[data['Species'] == 'Iris-virginica']"
      ],
      "metadata": {
        "id": "aJ9lImra8gPh"
      },
      "execution_count": 23,
      "outputs": []
    },
    {
      "cell_type": "markdown",
      "source": [
        "# **1. Mean** -  Affected by Outliers"
      ],
      "metadata": {
        "id": "uifTCGq581TZ"
      }
    },
    {
      "cell_type": "code",
      "source": [
        "# Mean of Sepal Width for each class\n",
        "\n",
        "print(np.mean(iris_setosa['SW']))\n",
        "print(np.mean(iris_versicolor['SW']))\n",
        "print(np.mean(iris_virginica['SW']))"
      ],
      "metadata": {
        "colab": {
          "base_uri": "https://localhost:8080/"
        },
        "id": "EqeA1tVo80F-",
        "outputId": "65dc3bf4-627c-404e-844b-c1ef8d59cbc3"
      },
      "execution_count": 24,
      "outputs": [
        {
          "output_type": "stream",
          "name": "stdout",
          "text": [
            "3.418\n",
            "2.7700000000000005\n",
            "2.974\n"
          ]
        }
      ]
    },
    {
      "cell_type": "code",
      "source": [
        "# Mean of Sepal Length for each class\n",
        "\n",
        "print(np.mean(iris_setosa['SL']))\n",
        "print(np.mean(iris_versicolor['SL']))\n",
        "print(np.mean(iris_virginica['SL']))"
      ],
      "metadata": {
        "colab": {
          "base_uri": "https://localhost:8080/"
        },
        "id": "-dHPW0RL9Rg1",
        "outputId": "2581dd06-4c54-48c2-f353-c3b7e475adcc"
      },
      "execution_count": 25,
      "outputs": [
        {
          "output_type": "stream",
          "name": "stdout",
          "text": [
            "5.006\n",
            "5.936\n",
            "6.587999999999998\n"
          ]
        }
      ]
    },
    {
      "cell_type": "code",
      "source": [
        "# Mean of Petal Width for each class\n",
        "\n",
        "print(np.mean(iris_setosa['PW']))\n",
        "print(np.mean(iris_versicolor['PW']))\n",
        "print(np.mean(iris_virginica['PW']))"
      ],
      "metadata": {
        "id": "GG8UHJmd9RjZ"
      },
      "execution_count": null,
      "outputs": []
    },
    {
      "cell_type": "code",
      "source": [
        "# Mean of Petal Length for each class\n",
        "\n",
        "print(np.mean(iris_setosa['PL']))\n",
        "print(np.mean(iris_versicolor['PL']))\n",
        "print(np.mean(iris_virginica['PL']))"
      ],
      "metadata": {
        "colab": {
          "base_uri": "https://localhost:8080/"
        },
        "id": "H3akm79s9RmP",
        "outputId": "d8512258-779e-4440-cac3-ccfbb7e41492"
      },
      "execution_count": 26,
      "outputs": [
        {
          "output_type": "stream",
          "name": "stdout",
          "text": [
            "1.464\n",
            "4.26\n",
            "5.5520000000000005\n"
          ]
        }
      ]
    },
    {
      "cell_type": "markdown",
      "source": [],
      "metadata": {
        "id": "stKYUYPR9b46"
      }
    },
    {
      "cell_type": "markdown",
      "source": [
        "### **The problem of Outliers**"
      ],
      "metadata": {
        "id": "vHEfB4-l9b-k"
      }
    },
    {
      "cell_type": "code",
      "source": [
        "# note that after adding one outlier of value 50 in Petal Lenght (PL) column, our mean will change\n",
        "# Earlier mean was 1.464 (see output just above this cell) and now it has changed to 2.41 (see output of this cell)\n",
        "\n",
        "np.mean(np.append(iris_setosa['PL'],50))"
      ],
      "metadata": {
        "colab": {
          "base_uri": "https://localhost:8080/"
        },
        "id": "teW_Do2V8gR0",
        "outputId": "49b1fd55-76e7-4492-863b-1ba1a522d31e"
      },
      "execution_count": 27,
      "outputs": [
        {
          "output_type": "execute_result",
          "data": {
            "text/plain": [
              "2.4156862745098038"
            ]
          },
          "metadata": {},
          "execution_count": 27
        }
      ]
    },
    {
      "cell_type": "markdown",
      "source": [
        "# **2. Median**  - Not affected by Outliers"
      ],
      "metadata": {
        "id": "cKQspQlu-byn"
      }
    },
    {
      "cell_type": "markdown",
      "source": [
        "![image.png](data:image/png;base64,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)"
      ],
      "metadata": {
        "id": "iegDYsqW-jTn"
      }
    },
    {
      "cell_type": "code",
      "source": [
        "# Median of Petal Length for each class\n",
        "\n",
        "print(np.median(iris_setosa['PL']))\n",
        "print(np.median(iris_versicolor['PL']))\n",
        "print(np.median(iris_virginica['PL']))"
      ],
      "metadata": {
        "colab": {
          "base_uri": "https://localhost:8080/"
        },
        "id": "Eza7HPN_8gUa",
        "outputId": "9a803ed9-92c7-4753-c37d-bb3a041355c3"
      },
      "execution_count": 28,
      "outputs": [
        {
          "output_type": "stream",
          "name": "stdout",
          "text": [
            "1.5\n",
            "4.35\n",
            "5.55\n"
          ]
        }
      ]
    },
    {
      "cell_type": "markdown",
      "source": [
        "### **The good thing about median**\n",
        "\n",
        "Median is not affected by outliers"
      ],
      "metadata": {
        "id": "9wjdX2Ta-7n3"
      }
    },
    {
      "cell_type": "code",
      "source": [
        "# note that even after adding one outlier of value 50 in Petal Lenght (PL) column, our median does not change\n",
        "# Earlier median was 1.5 (see output just above this cell) and now also it is 1.5 (see output of this cell)\n",
        "\n",
        "\n",
        "np.median(np.append(iris_setosa['PL'],50))"
      ],
      "metadata": {
        "colab": {
          "base_uri": "https://localhost:8080/"
        },
        "id": "1Lk2L4ps8Zu0",
        "outputId": "564fcea8-4e7b-4b67-9609-1154c65800e6"
      },
      "execution_count": 30,
      "outputs": [
        {
          "output_type": "execute_result",
          "data": {
            "text/plain": [
              "1.5"
            ]
          },
          "metadata": {},
          "execution_count": 30
        }
      ]
    },
    {
      "cell_type": "markdown",
      "source": [
        "# **3. Mode**. - No function in numpy for mode. Use scipy library for mode\n",
        "\n",
        "![image.png](data:image/png;base64,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)"
      ],
      "metadata": {
        "id": "GH9RCZn__xBv"
      }
    },
    {
      "cell_type": "code",
      "source": [
        "from scipy import stats\n",
        "\n",
        "print(stats.mode(iris_setosa['PL']))\n",
        "print(stats.mode(iris_versicolor['PL']))\n",
        "print(stats.mode(iris_virginica['PL']))"
      ],
      "metadata": {
        "colab": {
          "base_uri": "https://localhost:8080/"
        },
        "id": "p3OlU6A48Z3-",
        "outputId": "a557f34d-513d-4cb5-b8f3-336a53ea2095"
      },
      "execution_count": 31,
      "outputs": [
        {
          "output_type": "stream",
          "name": "stdout",
          "text": [
            "ModeResult(mode=array([1.5]), count=array([14]))\n",
            "ModeResult(mode=array([4.5]), count=array([7]))\n",
            "ModeResult(mode=array([5.1]), count=array([7]))\n"
          ]
        }
      ]
    }
  ]
}