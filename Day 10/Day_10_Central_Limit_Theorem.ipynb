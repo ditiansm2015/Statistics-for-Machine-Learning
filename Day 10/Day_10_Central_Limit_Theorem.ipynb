{
  "nbformat": 4,
  "nbformat_minor": 0,
  "metadata": {
    "colab": {
      "provenance": []
    },
    "kernelspec": {
      "name": "python3",
      "display_name": "Python 3"
    },
    "language_info": {
      "name": "python"
    }
  },
  "cells": [
    {
      "cell_type": "markdown",
      "source": [
        "# **CLT - Central Limit Theorem**"
      ],
      "metadata": {
        "id": "zoX66aD6RQ_L"
      }
    },
    {
      "cell_type": "markdown",
      "source": [
        "The central limit theorem says that the sampling distribution of the mean will always be normally distributed, as long as the sample size is large enough. Regardless of whether the population has a normal, Poisson, binomial, or any other distribution, the sampling distribution of the mean will be normal."
      ],
      "metadata": {
        "id": "b3wjEMZFQk4d"
      }
    },
    {
      "cell_type": "markdown",
      "source": [
        "he Central Limit Theorem is important for statistics because it allows us to safely assume that the sampling distribution of the mean will be normal in most cases"
      ],
      "metadata": {
        "id": "CpaOnztuQk-b"
      }
    },
    {
      "cell_type": "markdown",
      "source": [
        "### **Assumptions in CLT**\n",
        "\n",
        "1. Sampling is successive. This means some sample units are common with sample units selected on previous occasions.\n",
        "\n",
        "2. Sampling is random. All samples must be selected at random so that they have the same statistical possibility of being selected.\n",
        "\n",
        "3. Samples should be independent. The selections or results from one sample should have no bearing on future samples or other sample results.\n",
        "\n",
        "4. Samples should be limited. It's often cited that a sample should be no more than 10% of a population if sampling is done without replacement. In general, larger population sizes warrant the use of larger sample sizes.\n",
        "\n",
        "5. Sample size is increasing. The central limit theorem is relevant as more samples are selected."
      ],
      "metadata": {
        "id": "c6uy93YLQlEI"
      }
    },
    {
      "cell_type": "markdown",
      "source": [
        "### **Real Life Example of Central Limit Theorem**\n",
        "\n",
        "Biologists use the central limit theorem whenever they use data from a sample of organisms to draw conclusions about the overall population of organisms. For example, a biologist may measure the height of 30 randomly selected plants and then use the sample mean height to estimate the population mean height."
      ],
      "metadata": {
        "id": "FarqlVTKQlBA"
      }
    },
    {
      "cell_type": "markdown",
      "source": [
        "### **The Central Limit Theorem in Finance**\n",
        "\n",
        "The CLT is useful when examining the returns of an individual stock or broader indices, because the analysis is simple, due to the relative ease of generating the necessary financial data. Consequently, investors of all types rely on the CLT to analyze stock returns, construct portfolios, and manage risk.\n",
        "\n",
        "Say, for example, an investor wishes to analyze the overall return for a stock index that comprises 1,000 equities. In this scenario, that investor may simply study a random sample of stocks to cultivate estimated returns of the total index. To be safe, at least 30-50 randomly selected stocks across various sectors should be sampled for the central limit theorem to hold. Furthermore, previously selected stocks must be swapped out with different names to help eliminate bias."
      ],
      "metadata": {
        "id": "ULy9PW-cRgDB"
      }
    },
    {
      "cell_type": "markdown",
      "source": [
        "### **Why Is the Central Limit Theorem's Minimize Sample Size 30?**\n",
        "\n",
        "A sample size of 30 is fairly common across statistics. A sample size of 30 often increases the confidence interval of your population data set enough to warrant assertions against your findings.\n",
        "4\n",
        " The higher your sample size, the more likely the sample will be representative of your population set."
      ],
      "metadata": {
        "id": "P7JQs1JNRo3o"
      }
    }
  ]
}