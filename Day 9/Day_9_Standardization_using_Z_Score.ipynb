{
  "nbformat": 4,
  "nbformat_minor": 0,
  "metadata": {
    "colab": {
      "provenance": []
    },
    "kernelspec": {
      "name": "python3",
      "display_name": "Python 3"
    },
    "language_info": {
      "name": "python"
    }
  },
  "cells": [
    {
      "cell_type": "markdown",
      "source": [
        "## **Standardization**\n",
        "\n",
        "We use Z score to Standardize the dataset\n",
        "\n",
        "Z score = (X - Mean)/SD"
      ],
      "metadata": {
        "id": "Y_LovXmTMTzA"
      }
    },
    {
      "cell_type": "code",
      "execution_count": 1,
      "metadata": {
        "id": "hwLdGaKNL8H9"
      },
      "outputs": [],
      "source": [
        "import pandas as pd\n",
        "import numpy as np\n",
        "import seaborn as sns"
      ]
    },
    {
      "cell_type": "code",
      "source": [
        "from scipy.stats import norm\n",
        "import matplotlib.pyplot as plt\n",
        "\n",
        "# Generate 1000 normally distributed random integers with mean (1000) and SD(200)\n",
        "draw = norm.ppf(np.random.random(100000), loc = 1000, scale = 200).astype(int)\n",
        "sns.distplot(draw)"
      ],
      "metadata": {
        "colab": {
          "base_uri": "https://localhost:8080/",
          "height": 339
        },
        "id": "3jDg_VjoMDMN",
        "outputId": "119e399f-26a6-468e-e466-0b6b2a012d5a"
      },
      "execution_count": 3,
      "outputs": [
        {
          "output_type": "stream",
          "name": "stderr",
          "text": [
            "/usr/local/lib/python3.7/dist-packages/seaborn/distributions.py:2619: FutureWarning: `distplot` is a deprecated function and will be removed in a future version. Please adapt your code to use either `displot` (a figure-level function with similar flexibility) or `histplot` (an axes-level function for histograms).\n",
            "  warnings.warn(msg, FutureWarning)\n"
          ]
        },
        {
          "output_type": "execute_result",
          "data": {
            "text/plain": [
              "<matplotlib.axes._subplots.AxesSubplot at 0x7ff82e84c790>"
            ]
          },
          "metadata": {},
          "execution_count": 3
        },
        {
          "output_type": "display_data",
          "data": {
            "text/plain": [
              "<Figure size 432x288 with 1 Axes>"
            ],
            "image/png": "[encoded data removed]"
          },
          "metadata": {
            "needs_background": "light"
          }
        }
      ]
    },
    {
      "cell_type": "code",
      "source": [
        "z = []\n",
        "\n",
        "# Calculate Z score for all the datapoints. (Z Score = (x-mean)/SD)\n",
        "for i in draw:\n",
        "  z.append((i-1000)/200)"
      ],
      "metadata": {
        "id": "Hz_0UonMMPjE"
      },
      "execution_count": 6,
      "outputs": []
    },
    {
      "cell_type": "code",
      "source": [
        "a= np.array(z)"
      ],
      "metadata": {
        "id": "562C5dk0MDPb"
      },
      "execution_count": 7,
      "outputs": []
    },
    {
      "cell_type": "code",
      "source": [
        "print(a.mean())\n",
        "print(np.round(a.mean()))     # since many decimal points are present in mean calculated in above line, we have rounded it off. Note here mean = 0 as it should be normal distribution"
      ],
      "metadata": {
        "colab": {
          "base_uri": "https://localhost:8080/"
        },
        "id": "n9aZjAwnMvrb",
        "outputId": "dacff6dd-27f5-48a4-ba4f-567417cd3243"
      },
      "execution_count": 8,
      "outputs": [
        {
          "output_type": "stream",
          "name": "stdout",
          "text": [
            "-0.004891899999999999\n",
            "-0.0\n"
          ]
        }
      ]
    },
    {
      "cell_type": "code",
      "source": [
        "print(a.std())\n",
        "print(np.round(a.std()))    # since many decimal points are present in STD calculated in above line, we have rounded it off. Note here STD = 1 as it should be normal distribution"
      ],
      "metadata": {
        "colab": {
          "base_uri": "https://localhost:8080/"
        },
        "id": "bmOvs6BzNKen",
        "outputId": "2845cb48-6eb2-40cd-875a-ac7dc3f27324"
      },
      "execution_count": 10,
      "outputs": [
        {
          "output_type": "stream",
          "name": "stdout",
          "text": [
            "1.0033826721716845\n",
            "1.0\n"
          ]
        }
      ]
    },
    {
      "cell_type": "code",
      "source": [
        "# See the normal curve. It has mean = 0 and STD = 1\n",
        "sns.distplot(a)"
      ],
      "metadata": {
        "colab": {
          "base_uri": "https://localhost:8080/",
          "height": 339
        },
        "id": "XheO5V4pMDWV",
        "outputId": "29eb9a0a-5b28-4b97-8ec8-febd20326856"
      },
      "execution_count": 9,
      "outputs": [
        {
          "output_type": "stream",
          "name": "stderr",
          "text": [
            "/usr/local/lib/python3.7/dist-packages/seaborn/distributions.py:2619: FutureWarning: `distplot` is a deprecated function and will be removed in a future version. Please adapt your code to use either `displot` (a figure-level function with similar flexibility) or `histplot` (an axes-level function for histograms).\n",
            "  warnings.warn(msg, FutureWarning)\n"
          ]
        },
        {
          "output_type": "execute_result",
          "data": {
            "text/plain": [
              "<matplotlib.axes._subplots.AxesSubplot at 0x7ff82b465650>"
            ]
          },
          "metadata": {},
          "execution_count": 9
        },
        {
          "output_type": "display_data",
          "data": {
            "text/plain": [
              "<Figure size 432x288 with 1 Axes>"
            ],
            "image/png": "[encoded data removed]"
          },
          "metadata": {
            "needs_background": "light"
          }
        }
      ]
    },
    {
      "cell_type": "markdown",
      "source": [
        "## **Z Score**\n",
        "\n",
        "Problem 1: Imagine a group of 300 students took a test. Rohit scored 700 out of 1000. The average score was 500 and the SD = 120. Assuming that the test score followed Normal Distribution find out how well Rohit performed in comparison to his peers"
      ],
      "metadata": {
        "id": "UCbgJsI9NYpr"
      }
    },
    {
      "cell_type": "code",
      "source": [
        "# Step 1 - Calculate Z score\n",
        "\n",
        "z = (700-500)/120\n",
        "print(z)"
      ],
      "metadata": {
        "colab": {
          "base_uri": "https://localhost:8080/"
        },
        "id": "JpNrsoULMDYr",
        "outputId": "497a17fb-37f8-4290-f867-87f38c98882e"
      },
      "execution_count": 11,
      "outputs": [
        {
          "output_type": "stream",
          "name": "stdout",
          "text": [
            "1.6666666666666667\n"
          ]
        }
      ]
    },
    {
      "cell_type": "code",
      "source": [
        "# Step 2 - Lookup the Z table -    http://www.z-table.com/\n",
        "# look for 1.6 (in row data of Z table) + 0.06(in column data of Z table) in Z table (since we have calculated Z score in step 1 which came out to be 1.6666)\n",
        "# 0.95 + 0.0015 = 0.9515 \n",
        "\n",
        "a = 0.9515\n",
        "\n",
        "a*100"
      ],
      "metadata": {
        "colab": {
          "base_uri": "https://localhost:8080/"
        },
        "id": "T2lee2ymMDaw",
        "outputId": "2a1b979f-fe43-4a0f-f977-37dce6fd7e08"
      },
      "execution_count": 12,
      "outputs": [
        {
          "output_type": "execute_result",
          "data": {
            "text/plain": [
              "95.15"
            ]
          },
          "metadata": {},
          "execution_count": 12
        }
      ]
    },
    {
      "cell_type": "markdown",
      "source": [
        "**Conclusion - Rohit performed better than 95.15% of the people**"
      ],
      "metadata": {
        "id": "saBmhZz9O620"
      }
    }
  ]
}